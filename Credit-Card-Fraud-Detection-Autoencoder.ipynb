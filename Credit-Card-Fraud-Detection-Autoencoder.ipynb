{
 "cells": [
  {
   "cell_type": "markdown",
   "metadata": {},
   "source": [
    "# 1. Import dependencies"
   ]
  },
  {
   "cell_type": "code",
   "execution_count": 1,
   "metadata": {},
   "outputs": [],
   "source": [
    "import pandas as pd\n",
    "import matplotlib.pyplot as plt\n",
    "import seaborn as sns"
   ]
  },
  {
   "cell_type": "markdown",
   "metadata": {},
   "source": [
    "# 2. Load the data"
   ]
  },
  {
   "cell_type": "code",
   "execution_count": 2,
   "metadata": {},
   "outputs": [],
   "source": [
    "df = pd.read_csv('creditcard.csv')"
   ]
  },
  {
   "cell_type": "code",
   "execution_count": 3,
   "metadata": {},
   "outputs": [
    {
     "data": {
      "text/html": [
       "<div>\n",
       "<style scoped>\n",
       "    .dataframe tbody tr th:only-of-type {\n",
       "        vertical-align: middle;\n",
       "    }\n",
       "\n",
       "    .dataframe tbody tr th {\n",
       "        vertical-align: top;\n",
       "    }\n",
       "\n",
       "    .dataframe thead th {\n",
       "        text-align: right;\n",
       "    }\n",
       "</style>\n",
       "<table border=\"1\" class=\"dataframe\">\n",
       "  <thead>\n",
       "    <tr style=\"text-align: right;\">\n",
       "      <th></th>\n",
       "      <th>Time</th>\n",
       "      <th>V1</th>\n",
       "      <th>V2</th>\n",
       "      <th>V3</th>\n",
       "      <th>V4</th>\n",
       "      <th>V5</th>\n",
       "      <th>V6</th>\n",
       "      <th>V7</th>\n",
       "      <th>V8</th>\n",
       "      <th>V9</th>\n",
       "      <th>...</th>\n",
       "      <th>V21</th>\n",
       "      <th>V22</th>\n",
       "      <th>V23</th>\n",
       "      <th>V24</th>\n",
       "      <th>V25</th>\n",
       "      <th>V26</th>\n",
       "      <th>V27</th>\n",
       "      <th>V28</th>\n",
       "      <th>Amount</th>\n",
       "      <th>Class</th>\n",
       "    </tr>\n",
       "  </thead>\n",
       "  <tbody>\n",
       "    <tr>\n",
       "      <th>0</th>\n",
       "      <td>0.0</td>\n",
       "      <td>-1.359807</td>\n",
       "      <td>-0.072781</td>\n",
       "      <td>2.536347</td>\n",
       "      <td>1.378155</td>\n",
       "      <td>-0.338321</td>\n",
       "      <td>0.462388</td>\n",
       "      <td>0.239599</td>\n",
       "      <td>0.098698</td>\n",
       "      <td>0.363787</td>\n",
       "      <td>...</td>\n",
       "      <td>-0.018307</td>\n",
       "      <td>0.277838</td>\n",
       "      <td>-0.110474</td>\n",
       "      <td>0.066928</td>\n",
       "      <td>0.128539</td>\n",
       "      <td>-0.189115</td>\n",
       "      <td>0.133558</td>\n",
       "      <td>-0.021053</td>\n",
       "      <td>149.62</td>\n",
       "      <td>0</td>\n",
       "    </tr>\n",
       "    <tr>\n",
       "      <th>1</th>\n",
       "      <td>0.0</td>\n",
       "      <td>1.191857</td>\n",
       "      <td>0.266151</td>\n",
       "      <td>0.166480</td>\n",
       "      <td>0.448154</td>\n",
       "      <td>0.060018</td>\n",
       "      <td>-0.082361</td>\n",
       "      <td>-0.078803</td>\n",
       "      <td>0.085102</td>\n",
       "      <td>-0.255425</td>\n",
       "      <td>...</td>\n",
       "      <td>-0.225775</td>\n",
       "      <td>-0.638672</td>\n",
       "      <td>0.101288</td>\n",
       "      <td>-0.339846</td>\n",
       "      <td>0.167170</td>\n",
       "      <td>0.125895</td>\n",
       "      <td>-0.008983</td>\n",
       "      <td>0.014724</td>\n",
       "      <td>2.69</td>\n",
       "      <td>0</td>\n",
       "    </tr>\n",
       "    <tr>\n",
       "      <th>2</th>\n",
       "      <td>1.0</td>\n",
       "      <td>-1.358354</td>\n",
       "      <td>-1.340163</td>\n",
       "      <td>1.773209</td>\n",
       "      <td>0.379780</td>\n",
       "      <td>-0.503198</td>\n",
       "      <td>1.800499</td>\n",
       "      <td>0.791461</td>\n",
       "      <td>0.247676</td>\n",
       "      <td>-1.514654</td>\n",
       "      <td>...</td>\n",
       "      <td>0.247998</td>\n",
       "      <td>0.771679</td>\n",
       "      <td>0.909412</td>\n",
       "      <td>-0.689281</td>\n",
       "      <td>-0.327642</td>\n",
       "      <td>-0.139097</td>\n",
       "      <td>-0.055353</td>\n",
       "      <td>-0.059752</td>\n",
       "      <td>378.66</td>\n",
       "      <td>0</td>\n",
       "    </tr>\n",
       "    <tr>\n",
       "      <th>3</th>\n",
       "      <td>1.0</td>\n",
       "      <td>-0.966272</td>\n",
       "      <td>-0.185226</td>\n",
       "      <td>1.792993</td>\n",
       "      <td>-0.863291</td>\n",
       "      <td>-0.010309</td>\n",
       "      <td>1.247203</td>\n",
       "      <td>0.237609</td>\n",
       "      <td>0.377436</td>\n",
       "      <td>-1.387024</td>\n",
       "      <td>...</td>\n",
       "      <td>-0.108300</td>\n",
       "      <td>0.005274</td>\n",
       "      <td>-0.190321</td>\n",
       "      <td>-1.175575</td>\n",
       "      <td>0.647376</td>\n",
       "      <td>-0.221929</td>\n",
       "      <td>0.062723</td>\n",
       "      <td>0.061458</td>\n",
       "      <td>123.50</td>\n",
       "      <td>0</td>\n",
       "    </tr>\n",
       "    <tr>\n",
       "      <th>4</th>\n",
       "      <td>2.0</td>\n",
       "      <td>-1.158233</td>\n",
       "      <td>0.877737</td>\n",
       "      <td>1.548718</td>\n",
       "      <td>0.403034</td>\n",
       "      <td>-0.407193</td>\n",
       "      <td>0.095921</td>\n",
       "      <td>0.592941</td>\n",
       "      <td>-0.270533</td>\n",
       "      <td>0.817739</td>\n",
       "      <td>...</td>\n",
       "      <td>-0.009431</td>\n",
       "      <td>0.798278</td>\n",
       "      <td>-0.137458</td>\n",
       "      <td>0.141267</td>\n",
       "      <td>-0.206010</td>\n",
       "      <td>0.502292</td>\n",
       "      <td>0.219422</td>\n",
       "      <td>0.215153</td>\n",
       "      <td>69.99</td>\n",
       "      <td>0</td>\n",
       "    </tr>\n",
       "  </tbody>\n",
       "</table>\n",
       "<p>5 rows × 31 columns</p>\n",
       "</div>"
      ],
      "text/plain": [
       "   Time        V1        V2        V3        V4        V5        V6        V7  \\\n",
       "0   0.0 -1.359807 -0.072781  2.536347  1.378155 -0.338321  0.462388  0.239599   \n",
       "1   0.0  1.191857  0.266151  0.166480  0.448154  0.060018 -0.082361 -0.078803   \n",
       "2   1.0 -1.358354 -1.340163  1.773209  0.379780 -0.503198  1.800499  0.791461   \n",
       "3   1.0 -0.966272 -0.185226  1.792993 -0.863291 -0.010309  1.247203  0.237609   \n",
       "4   2.0 -1.158233  0.877737  1.548718  0.403034 -0.407193  0.095921  0.592941   \n",
       "\n",
       "         V8        V9  ...         V21       V22       V23       V24  \\\n",
       "0  0.098698  0.363787  ...   -0.018307  0.277838 -0.110474  0.066928   \n",
       "1  0.085102 -0.255425  ...   -0.225775 -0.638672  0.101288 -0.339846   \n",
       "2  0.247676 -1.514654  ...    0.247998  0.771679  0.909412 -0.689281   \n",
       "3  0.377436 -1.387024  ...   -0.108300  0.005274 -0.190321 -1.175575   \n",
       "4 -0.270533  0.817739  ...   -0.009431  0.798278 -0.137458  0.141267   \n",
       "\n",
       "        V25       V26       V27       V28  Amount  Class  \n",
       "0  0.128539 -0.189115  0.133558 -0.021053  149.62      0  \n",
       "1  0.167170  0.125895 -0.008983  0.014724    2.69      0  \n",
       "2 -0.327642 -0.139097 -0.055353 -0.059752  378.66      0  \n",
       "3  0.647376 -0.221929  0.062723  0.061458  123.50      0  \n",
       "4 -0.206010  0.502292  0.219422  0.215153   69.99      0  \n",
       "\n",
       "[5 rows x 31 columns]"
      ]
     },
     "execution_count": 3,
     "metadata": {},
     "output_type": "execute_result"
    }
   ],
   "source": [
    "df.head()"
   ]
  },
  {
   "cell_type": "markdown",
   "metadata": {},
   "source": [
    "# 3. Exploratory Data Analysis"
   ]
  },
  {
   "cell_type": "code",
   "execution_count": 4,
   "metadata": {},
   "outputs": [
    {
     "data": {
      "text/plain": [
       "(284807, 31)"
      ]
     },
     "execution_count": 4,
     "metadata": {},
     "output_type": "execute_result"
    }
   ],
   "source": [
    "df.shape"
   ]
  },
  {
   "cell_type": "code",
   "execution_count": 5,
   "metadata": {},
   "outputs": [
    {
     "data": {
      "text/plain": [
       "Time      0\n",
       "V1        0\n",
       "V2        0\n",
       "V3        0\n",
       "V4        0\n",
       "V5        0\n",
       "V6        0\n",
       "V7        0\n",
       "V8        0\n",
       "V9        0\n",
       "V10       0\n",
       "V11       0\n",
       "V12       0\n",
       "V13       0\n",
       "V14       0\n",
       "V15       0\n",
       "V16       0\n",
       "V17       0\n",
       "V18       0\n",
       "V19       0\n",
       "V20       0\n",
       "V21       0\n",
       "V22       0\n",
       "V23       0\n",
       "V24       0\n",
       "V25       0\n",
       "V26       0\n",
       "V27       0\n",
       "V28       0\n",
       "Amount    0\n",
       "Class     0\n",
       "dtype: int64"
      ]
     },
     "execution_count": 5,
     "metadata": {},
     "output_type": "execute_result"
    }
   ],
   "source": [
    "# No null values in our dataset\n",
    "df.isnull().sum() "
   ]
  },
  {
   "cell_type": "code",
   "execution_count": 6,
   "metadata": {},
   "outputs": [
    {
     "data": {
      "text/plain": [
       "Index(['Time', 'V1', 'V2', 'V3', 'V4', 'V5', 'V6', 'V7', 'V8', 'V9', 'V10',\n",
       "       'V11', 'V12', 'V13', 'V14', 'V15', 'V16', 'V17', 'V18', 'V19', 'V20',\n",
       "       'V21', 'V22', 'V23', 'V24', 'V25', 'V26', 'V27', 'V28', 'Amount',\n",
       "       'Class'],\n",
       "      dtype='object')"
      ]
     },
     "execution_count": 6,
     "metadata": {},
     "output_type": "execute_result"
    }
   ],
   "source": [
    "# We can see that we have a bunch of annonymised columns, as well as a 'Time', Class', and 'Amount' columns\n",
    "df.columns"
   ]
  },
  {
   "cell_type": "code",
   "execution_count": 7,
   "metadata": {},
   "outputs": [
    {
     "data": {
      "text/plain": [
       "(284807, 30)"
      ]
     },
     "execution_count": 7,
     "metadata": {},
     "output_type": "execute_result"
    }
   ],
   "source": [
    "# Let's get rid of the time column as we won't be using it\n",
    "df = df.drop('Time', axis=1)\n",
    "df.shape"
   ]
  },
  {
   "cell_type": "code",
   "execution_count": 8,
   "metadata": {},
   "outputs": [
    {
     "name": "stdout",
     "output_type": "stream",
     "text": [
      "Class\n",
      "0    284315\n",
      "1       492\n",
      "dtype: int64\n"
     ]
    }
   ],
   "source": [
    "# We are interested in the 'Class' column which represents whether a transaction was genuine or fraudulent.\n",
    "# Let's see compare the number of fraudelent transactions vs normal one\n",
    "\n",
    "print(df.groupby('Class').size())"
   ]
  },
  {
   "cell_type": "code",
   "execution_count": 9,
   "metadata": {},
   "outputs": [
    {
     "data": {
      "text/plain": [
       "[Text(0, 0, 'Normal'), Text(0, 0, 'Fruad')]"
      ]
     },
     "execution_count": 9,
     "metadata": {},
     "output_type": "execute_result"
    },
    {
     "data": {
      "image/png": "[encoded data removed]",
      "text/plain": [
       "<Figure size 720x504 with 1 Axes>"
      ]
     },
     "metadata": {
      "needs_background": "light"
     },
     "output_type": "display_data"
    }
   ],
   "source": [
    "# As we can see we have a highly imbalanced dataset, with the majority of transactions being normal. While less than \n",
    "# 500 are fraudulent.\n",
    "\n",
    "plt.figure(figsize=(10,7))\n",
    "ax = sns.countplot(df['Class'])\n",
    "ax.set_xticklabels(['Normal','Fruad'], fontsize=12)"
   ]
  },
  {
   "cell_type": "code",
   "execution_count": 10,
   "metadata": {},
   "outputs": [
    {
     "name": "stdout",
     "output_type": "stream",
     "text": [
      "(492, 30)\n",
      "(284315, 30)\n"
     ]
    }
   ],
   "source": [
    "# Let's create two new Dataframes - one for each class\n",
    "\n",
    "fraud = df[df['Class'] == 1]\n",
    "normal = df[df['Class'] == 0]\n",
    "\n",
    "print(fraud.shape)\n",
    "print(normal.shape)"
   ]
  },
  {
   "cell_type": "code",
   "execution_count": 11,
   "metadata": {},
   "outputs": [
    {
     "data": {
      "text/plain": [
       "[Text(0, 0, 'Normal'), Text(0, 0, 'Fruad')]"
      ]
     },
     "execution_count": 11,
     "metadata": {},
     "output_type": "execute_result"
    },
    {
     "data": {
      "text/plain": [
       "<Figure size 720x504 with 0 Axes>"
      ]
     },
     "metadata": {},
     "output_type": "display_data"
    },
    {
     "data": {
      "image/png": "[encoded data removed]",
      "text/plain": [
       "<Figure size 720x504 with 1 Axes>"
      ]
     },
     "metadata": {
      "needs_background": "light"
     },
     "output_type": "display_data"
    }
   ],
   "source": [
    "# let's compare amounts spent in both the fraud and normal transactions df\n",
    "# it seems that the mean amount for normal transactions are slighly higher than fruadelent ones\n",
    "# moreover, normal transactions have a much larger range than fruadelent transactions\n",
    "plt.figure(figsize=(10,7))\n",
    "plt.figure(figsize=(10,7))\n",
    "ax = sns.boxplot(x=\"Class\", y=\"Amount\", palette='coolwarm', data=df)  # RUN PLOT   \n",
    "ax.set_yscale('log')\n",
    "ax.set_xticklabels(['Normal','Fruad'], fontsize=12)"
   ]
  },
  {
   "cell_type": "markdown",
   "metadata": {},
   "source": [
    "# 4. Data Preparation"
   ]
  },
  {
   "cell_type": "code",
   "execution_count": 12,
   "metadata": {},
   "outputs": [],
   "source": [
    "# ML Algorithms tend to work better when the data is scaled. So let's start off by standardizing the Amount colum (everything else seems to already be scaled)\n",
    "df.head()\n",
    "\n",
    "from sklearn.preprocessing import MinMaxScaler\n",
    "scaler = MinMaxScaler()\n",
    "\n",
    "df['Amount'] = scaler.fit_transform(df['Amount'].values.reshape(-1, 1))"
   ]
  },
  {
   "cell_type": "code",
   "execution_count": 29,
   "metadata": {},
   "outputs": [],
   "source": [
    "# Next, we need to split up the df into a training set and test set. Since we're training an autoencoder to identify\n",
    "# anamolies within an imbalaced dataset, we'll only be training our model on normal transactions. By doing this,\n",
    "# our model will learn a compressed representation of what normal transactions look like. Then we can, pass our model new data with\n",
    "# both fraudelent and normal transactions- and since our model has learned the representation of normal transactions\n",
    "# it should be able to identify other normal transactions it hasn't seen before since it has learned the representation of normal transactions. \n",
    "\n",
    "from sklearn.model_selection import train_test_split\n",
    "\n",
    "X_train, X_test = train_test_split(df, test_size=0.25, random_state=42)\n",
    "X_train = X_train[X_train['Class'] == 0] # we have 80% our data as normal transactions\n",
    "X_train = X_train.drop(['Class'], axis=1)\n",
    "\n",
    "\n",
    "y_test = X_test['Class']\n",
    "\n",
    "X_test = X_test.drop(['Class'], axis=1)\n",
    "X_train = X_train.values\n",
    "X_test = X_test.values"
   ]
  },
  {
   "cell_type": "code",
   "execution_count": 30,
   "metadata": {},
   "outputs": [
    {
     "data": {
      "text/plain": [
       "(213226, 29)"
      ]
     },
     "execution_count": 30,
     "metadata": {},
     "output_type": "execute_result"
    }
   ],
   "source": [
    "X_train.shape"
   ]
  },
  {
   "cell_type": "code",
   "execution_count": 31,
   "metadata": {},
   "outputs": [
    {
     "data": {
      "text/plain": [
       "(71202, 29)"
      ]
     },
     "execution_count": 31,
     "metadata": {},
     "output_type": "execute_result"
    }
   ],
   "source": [
    "X_test.shape"
   ]
  },
  {
   "cell_type": "code",
   "execution_count": 32,
   "metadata": {},
   "outputs": [
    {
     "data": {
      "text/plain": [
       "113"
      ]
     },
     "execution_count": 32,
     "metadata": {},
     "output_type": "execute_result"
    }
   ],
   "source": [
    "y_test[y_test == 1].sum() # number of fraudlent cases in the test set"
   ]
  },
  {
   "cell_type": "markdown",
   "metadata": {},
   "source": [
    "# 5. Building and Fitting the Autoencoder"
   ]
  },
  {
   "cell_type": "code",
   "execution_count": 33,
   "metadata": {},
   "outputs": [
    {
     "name": "stderr",
     "output_type": "stream",
     "text": [
      "Using TensorFlow backend.\n"
     ]
    }
   ],
   "source": [
    "from keras.models import Sequential, Model\n",
    "from keras import regularizers\n",
    "from keras.layers import Dense, Input\n",
    "from keras.callbacks import ModelCheckpoint"
   ]
  },
  {
   "cell_type": "code",
   "execution_count": 34,
   "metadata": {},
   "outputs": [],
   "source": [
    "model= Sequential()\n",
    "model.add(Dense(512, input_dim=X_train.shape[1], activation='relu'))\n",
    "model.add(Dense(128, activation='relu'))\n",
    "model.add(Dense(4, activation='relu'))\n",
    "model.add(Dense(128, activation='relu'))\n",
    "model.add(Dense(512, activation='relu'))\n",
    "model.add(Dense(X_train.shape[1]))\n",
    "model.compile(optimizer='adam', \n",
    "                    loss='mean_squared_error', \n",
    "                    metrics=['accuracy'])\n"
   ]
  },
  {
   "cell_type": "code",
   "execution_count": 35,
   "metadata": {
    "scrolled": false
   },
   "outputs": [
    {
     "name": "stdout",
     "output_type": "stream",
     "text": [
      "Train on 213226 samples, validate on 71202 samples\n",
      "Epoch 1/150\n",
      "213226/213226 [==============================] - 16s 74us/step - loss: 0.3334 - accuracy: 0.6099 - val_loss: 0.2787 - val_accuracy: 0.6466\n",
      "Epoch 2/150\n",
      "213226/213226 [==============================] - 15s 71us/step - loss: 0.2392 - accuracy: 0.6589 - val_loss: 0.2454 - val_accuracy: 0.6760\n",
      "Epoch 3/150\n",
      "213226/213226 [==============================] - 15s 71us/step - loss: 0.2136 - accuracy: 0.6771 - val_loss: 0.2119 - val_accuracy: 0.6901\n",
      "Epoch 4/150\n",
      "213226/213226 [==============================] - 16s 76us/step - loss: 0.1957 - accuracy: 0.6904 - val_loss: 0.2350 - val_accuracy: 0.6817\n",
      "Epoch 5/150\n",
      "213226/213226 [==============================] - 16s 74us/step - loss: 0.1951 - accuracy: 0.6967 - val_loss: 0.2058 - val_accuracy: 0.6962\n",
      "Epoch 6/150\n",
      "213226/213226 [==============================] - 16s 73us/step - loss: 0.1810 - accuracy: 0.7018 - val_loss: 0.1816 - val_accuracy: 0.7000\n",
      "Epoch 7/150\n",
      "213226/213226 [==============================] - 16s 74us/step - loss: 0.1760 - accuracy: 0.7052 - val_loss: 0.1839 - val_accuracy: 0.7137\n",
      "Epoch 8/150\n",
      "213226/213226 [==============================] - 15s 72us/step - loss: 0.1733 - accuracy: 0.7069 - val_loss: 0.2102 - val_accuracy: 0.7020\n",
      "Epoch 9/150\n",
      "213226/213226 [==============================] - 16s 73us/step - loss: 0.1672 - accuracy: 0.7134 - val_loss: 0.1708 - val_accuracy: 0.7201\n",
      "Epoch 10/150\n",
      "213226/213226 [==============================] - 15s 72us/step - loss: 0.1613 - accuracy: 0.7176 - val_loss: 0.1691 - val_accuracy: 0.7203\n",
      "Epoch 11/150\n",
      "213226/213226 [==============================] - 16s 74us/step - loss: 0.1601 - accuracy: 0.7202 - val_loss: 0.1717 - val_accuracy: 0.7199\n",
      "Epoch 12/150\n",
      "213226/213226 [==============================] - 15s 71us/step - loss: 0.1576 - accuracy: 0.7209 - val_loss: 0.1658 - val_accuracy: 0.7177\n",
      "Epoch 13/150\n",
      "213226/213226 [==============================] - 15s 72us/step - loss: 0.1551 - accuracy: 0.7243 - val_loss: 0.1639 - val_accuracy: 0.7322\n",
      "Epoch 14/150\n",
      "213226/213226 [==============================] - 16s 73us/step - loss: 0.1537 - accuracy: 0.7266 - val_loss: 0.1613 - val_accuracy: 0.7329\n",
      "Epoch 15/150\n",
      "213226/213226 [==============================] - 15s 72us/step - loss: 0.1506 - accuracy: 0.7269 - val_loss: 0.1941 - val_accuracy: 0.7300\n",
      "Epoch 16/150\n",
      "213226/213226 [==============================] - 15s 71us/step - loss: 0.1497 - accuracy: 0.7294 - val_loss: 0.1528 - val_accuracy: 0.7323\n",
      "Epoch 17/150\n",
      "213226/213226 [==============================] - 15s 72us/step - loss: 0.1471 - accuracy: 0.7313 - val_loss: 0.1536 - val_accuracy: 0.7298\n",
      "Epoch 18/150\n",
      "213226/213226 [==============================] - 15s 72us/step - loss: 0.1469 - accuracy: 0.7320 - val_loss: 0.1590 - val_accuracy: 0.7209\n",
      "Epoch 19/150\n",
      "213226/213226 [==============================] - 15s 72us/step - loss: 0.1462 - accuracy: 0.7339 - val_loss: 0.1548 - val_accuracy: 0.7345\n",
      "Epoch 20/150\n",
      "213226/213226 [==============================] - 15s 72us/step - loss: 0.1474 - accuracy: 0.7352 - val_loss: 0.1599 - val_accuracy: 0.7316\n",
      "Epoch 21/150\n",
      "213226/213226 [==============================] - 15s 71us/step - loss: 0.1446 - accuracy: 0.7367 - val_loss: 0.1501 - val_accuracy: 0.7452\n",
      "Epoch 22/150\n",
      "213226/213226 [==============================] - 15s 72us/step - loss: 0.1422 - accuracy: 0.7394 - val_loss: 0.1513 - val_accuracy: 0.7396\n",
      "Epoch 23/150\n",
      "213226/213226 [==============================] - 15s 72us/step - loss: 0.1437 - accuracy: 0.7403 - val_loss: 0.1497 - val_accuracy: 0.7410\n",
      "Epoch 24/150\n",
      "213226/213226 [==============================] - 16s 73us/step - loss: 0.1397 - accuracy: 0.7408 - val_loss: 0.1574 - val_accuracy: 0.7304\n",
      "Epoch 25/150\n",
      "213226/213226 [==============================] - 15s 72us/step - loss: 0.1390 - accuracy: 0.7442 - val_loss: 0.1538 - val_accuracy: 0.7357\n",
      "Epoch 26/150\n",
      "213226/213226 [==============================] - 17s 81us/step - loss: 0.1380 - accuracy: 0.7442 - val_loss: 0.1474 - val_accuracy: 0.7497\n",
      "Epoch 27/150\n",
      "213226/213226 [==============================] - 23s 110us/step - loss: 0.1367 - accuracy: 0.7453 - val_loss: 0.1457 - val_accuracy: 0.7393\n",
      "Epoch 28/150\n",
      "213226/213226 [==============================] - 22s 104us/step - loss: 0.1343 - accuracy: 0.7472 - val_loss: 0.1761 - val_accuracy: 0.7328\n",
      "Epoch 29/150\n",
      "213226/213226 [==============================] - 20s 96us/step - loss: 0.1399 - accuracy: 0.7441 - val_loss: 0.1460 - val_accuracy: 0.7557\n",
      "Epoch 30/150\n",
      "213226/213226 [==============================] - 20s 94us/step - loss: 0.1348 - accuracy: 0.7485 - val_loss: 0.1447 - val_accuracy: 0.7454\n",
      "Epoch 31/150\n",
      "213226/213226 [==============================] - 17s 79us/step - loss: 0.1349 - accuracy: 0.7481 - val_loss: 0.1465 - val_accuracy: 0.7465\n",
      "Epoch 32/150\n",
      "213226/213226 [==============================] - 14s 67us/step - loss: 0.1341 - accuracy: 0.7490 - val_loss: 0.1494 - val_accuracy: 0.7456\n",
      "Epoch 33/150\n",
      "213226/213226 [==============================] - 20s 92us/step - loss: 0.1340 - accuracy: 0.7492 - val_loss: 0.1446 - val_accuracy: 0.7513\n",
      "Epoch 34/150\n",
      "213226/213226 [==============================] - 39s 182us/step - loss: 0.1325 - accuracy: 0.7503 - val_loss: 0.1461 - val_accuracy: 0.7508\n",
      "Epoch 35/150\n",
      "213226/213226 [==============================] - 32s 148us/step - loss: 0.1330 - accuracy: 0.7495 - val_loss: 0.1439 - val_accuracy: 0.7453\n",
      "Epoch 36/150\n",
      "213226/213226 [==============================] - 21s 98us/step - loss: 0.1340 - accuracy: 0.7499 - val_loss: 0.1407 - val_accuracy: 0.7500\n",
      "Epoch 37/150\n",
      "213226/213226 [==============================] - 16s 74us/step - loss: 0.1330 - accuracy: 0.7525 - val_loss: 0.1413 - val_accuracy: 0.7502\n",
      "Epoch 38/150\n",
      "213226/213226 [==============================] - 17s 80us/step - loss: 0.1339 - accuracy: 0.7507 - val_loss: 0.1394 - val_accuracy: 0.7569\n",
      "Epoch 39/150\n",
      "213226/213226 [==============================] - 16s 76us/step - loss: 0.1334 - accuracy: 0.7506 - val_loss: 0.1404 - val_accuracy: 0.7511\n",
      "Epoch 40/150\n",
      "213226/213226 [==============================] - 17s 80us/step - loss: 0.1313 - accuracy: 0.7512 - val_loss: 0.1430 - val_accuracy: 0.7487\n",
      "Epoch 41/150\n",
      "213226/213226 [==============================] - 16s 77us/step - loss: 0.1314 - accuracy: 0.7535 - val_loss: 0.1384 - val_accuracy: 0.7567\n",
      "Epoch 42/150\n",
      "213226/213226 [==============================] - 17s 80us/step - loss: 0.1307 - accuracy: 0.7530 - val_loss: 0.1431 - val_accuracy: 0.7479\n",
      "Epoch 43/150\n",
      "213226/213226 [==============================] - 17s 77us/step - loss: 0.1302 - accuracy: 0.7533 - val_loss: 0.1430 - val_accuracy: 0.7462\n",
      "Epoch 44/150\n",
      "213226/213226 [==============================] - 16s 76us/step - loss: 0.1305 - accuracy: 0.7531 - val_loss: 0.1413 - val_accuracy: 0.7511\n",
      "Epoch 45/150\n",
      "213226/213226 [==============================] - 16s 75us/step - loss: 0.1288 - accuracy: 0.7531 - val_loss: 0.1448 - val_accuracy: 0.7517\n",
      "Epoch 46/150\n",
      "213226/213226 [==============================] - 19s 87us/step - loss: 0.1278 - accuracy: 0.7517 - val_loss: 0.1433 - val_accuracy: 0.7503\n",
      "Epoch 47/150\n",
      "213226/213226 [==============================] - 16s 77us/step - loss: 0.1307 - accuracy: 0.7527 - val_loss: 0.1402 - val_accuracy: 0.7488\n",
      "Epoch 48/150\n",
      "213226/213226 [==============================] - 17s 78us/step - loss: 0.1284 - accuracy: 0.7534 - val_loss: 0.1387 - val_accuracy: 0.7549\n",
      "Epoch 49/150\n",
      "213226/213226 [==============================] - 16s 76us/step - loss: 0.1285 - accuracy: 0.7551 - val_loss: 0.1364 - val_accuracy: 0.7561\n",
      "Epoch 50/150\n",
      "213226/213226 [==============================] - 16s 77us/step - loss: 0.1269 - accuracy: 0.7564 - val_loss: 0.1368 - val_accuracy: 0.7556\n",
      "Epoch 51/150\n",
      "213226/213226 [==============================] - 16s 77us/step - loss: 0.1266 - accuracy: 0.7564 - val_loss: 0.1339 - val_accuracy: 0.7550\n",
      "Epoch 52/150\n",
      "213226/213226 [==============================] - 17s 78us/step - loss: 0.1269 - accuracy: 0.7557 - val_loss: 0.1463 - val_accuracy: 0.7569\n",
      "Epoch 53/150\n",
      "213226/213226 [==============================] - 16s 76us/step - loss: 0.1255 - accuracy: 0.7579 - val_loss: 0.1341 - val_accuracy: 0.7642255 - accuracy: 0.\n",
      "Epoch 54/150\n"
     ]
    },
    {
     "name": "stdout",
     "output_type": "stream",
     "text": [
      "213226/213226 [==============================] - 16s 73us/step - loss: 0.1286 - accuracy: 0.7558 - val_loss: 0.1394 - val_accuracy: 0.7565\n",
      "Epoch 55/150\n",
      "213226/213226 [==============================] - 15s 71us/step - loss: 0.1251 - accuracy: 0.7582 - val_loss: 0.1361 - val_accuracy: 0.7595\n",
      "Epoch 56/150\n",
      "213226/213226 [==============================] - 15s 72us/step - loss: 0.1264 - accuracy: 0.7573 - val_loss: 0.1424 - val_accuracy: 0.7510\n",
      "Epoch 57/150\n",
      "213226/213226 [==============================] - 15s 71us/step - loss: 0.1256 - accuracy: 0.7590 - val_loss: 0.1353 - val_accuracy: 0.7644\n",
      "Epoch 58/150\n",
      "213226/213226 [==============================] - 15s 73us/step - loss: 0.1246 - accuracy: 0.7590 - val_loss: 0.1350 - val_accuracy: 0.7572\n",
      "Epoch 59/150\n",
      "213226/213226 [==============================] - 15s 72us/step - loss: 0.1280 - accuracy: 0.7583 - val_loss: 0.1420 - val_accuracy: 0.7562\n",
      "Epoch 60/150\n",
      "213226/213226 [==============================] - 15s 72us/step - loss: 0.1291 - accuracy: 0.7560 - val_loss: 0.1471 - val_accuracy: 0.7476\n",
      "Epoch 61/150\n",
      "213226/213226 [==============================] - 16s 74us/step - loss: 0.1258 - accuracy: 0.7587 - val_loss: 0.1398 - val_accuracy: 0.7605\n",
      "Epoch 62/150\n",
      "213226/213226 [==============================] - 15s 72us/step - loss: 0.1250 - accuracy: 0.7586 - val_loss: 0.1478 - val_accuracy: 0.7553\n",
      "Epoch 63/150\n",
      "213226/213226 [==============================] - 15s 72us/step - loss: 0.1260 - accuracy: 0.7582 - val_loss: 0.1407 - val_accuracy: 0.7600\n",
      "Epoch 64/150\n",
      "213226/213226 [==============================] - 16s 74us/step - loss: 0.1248 - accuracy: 0.7588 - val_loss: 0.1375 - val_accuracy: 0.7591\n",
      "Epoch 65/150\n",
      "213226/213226 [==============================] - 15s 72us/step - loss: 0.1253 - accuracy: 0.7599 - val_loss: 0.1389 - val_accuracy: 0.7618\n",
      "Epoch 66/150\n",
      "213226/213226 [==============================] - 15s 72us/step - loss: 0.1240 - accuracy: 0.7595 - val_loss: 0.1411 - val_accuracy: 0.7569\n",
      "Epoch 67/150\n",
      "213226/213226 [==============================] - 18s 83us/step - loss: 0.1263 - accuracy: 0.7588 - val_loss: 0.1345 - val_accuracy: 0.7638\n",
      "Epoch 68/150\n",
      "213226/213226 [==============================] - 16s 74us/step - loss: 0.1237 - accuracy: 0.7599 - val_loss: 0.1348 - val_accuracy: 0.7537\n",
      "Epoch 69/150\n",
      "213226/213226 [==============================] - 16s 75us/step - loss: 0.1231 - accuracy: 0.7614 - val_loss: 0.1389 - val_accuracy: 0.7500\n",
      "Epoch 70/150\n",
      "213226/213226 [==============================] - 16s 75us/step - loss: 0.1231 - accuracy: 0.7612 - val_loss: 0.1316 - val_accuracy: 0.7622\n",
      "Epoch 71/150\n",
      "213226/213226 [==============================] - 16s 76us/step - loss: 0.1222 - accuracy: 0.7611 - val_loss: 0.1347 - val_accuracy: 0.7612\n",
      "Epoch 72/150\n",
      "213226/213226 [==============================] - 16s 75us/step - loss: 0.1246 - accuracy: 0.7580 - val_loss: 0.1446 - val_accuracy: 0.7544\n",
      "Epoch 73/150\n",
      "213226/213226 [==============================] - 16s 75us/step - loss: 0.1303 - accuracy: 0.7565 - val_loss: 0.1430 - val_accuracy: 0.7575\n",
      "Epoch 74/150\n",
      "213226/213226 [==============================] - 16s 76us/step - loss: 0.1238 - accuracy: 0.7596 - val_loss: 0.1331 - val_accuracy: 0.7620\n",
      "Epoch 75/150\n",
      "213226/213226 [==============================] - 17s 81us/step - loss: 0.1237 - accuracy: 0.7607 - val_loss: 0.1374 - val_accuracy: 0.7600\n",
      "Epoch 76/150\n",
      "213226/213226 [==============================] - 16s 76us/step - loss: 0.1233 - accuracy: 0.7610 - val_loss: 0.1341 - val_accuracy: 0.7654\n",
      "Epoch 77/150\n",
      "213226/213226 [==============================] - 17s 80us/step - loss: 0.1224 - accuracy: 0.7603 - val_loss: 0.1401 - val_accuracy: 0.7610\n",
      "Epoch 78/150\n",
      "213226/213226 [==============================] - 16s 77us/step - loss: 0.1224 - accuracy: 0.7601 - val_loss: 0.1341 - val_accuracy: 0.7649\n",
      "Epoch 79/150\n",
      "213226/213226 [==============================] - 16s 77us/step - loss: 0.1249 - accuracy: 0.7592 - val_loss: 0.1356 - val_accuracy: 0.7597\n",
      "Epoch 80/150\n",
      "213226/213226 [==============================] - 16s 76us/step - loss: 0.1237 - accuracy: 0.7587 - val_loss: 0.1364 - val_accuracy: 0.7583\n",
      "Epoch 81/150\n",
      "213226/213226 [==============================] - 16s 76us/step - loss: 0.1252 - accuracy: 0.7573 - val_loss: 0.1331 - val_accuracy: 0.7594\n",
      "Epoch 82/150\n",
      "213226/213226 [==============================] - 16s 77us/step - loss: 0.1229 - accuracy: 0.7587 - val_loss: 0.1353 - val_accuracy: 0.7587\n",
      "Epoch 83/150\n",
      "213226/213226 [==============================] - 17s 80us/step - loss: 0.1229 - accuracy: 0.7587 - val_loss: 0.1364 - val_accuracy: 0.7614\n",
      "Epoch 84/150\n",
      "213226/213226 [==============================] - 16s 75us/step - loss: 0.1226 - accuracy: 0.7609 - val_loss: 0.1335 - val_accuracy: 0.7630\n",
      "Epoch 85/150\n",
      "213226/213226 [==============================] - 16s 75us/step - loss: 0.1227 - accuracy: 0.7604 - val_loss: 0.1569 - val_accuracy: 0.7486\n",
      "Epoch 86/150\n",
      "213226/213226 [==============================] - 16s 76us/step - loss: 0.1279 - accuracy: 0.7583 - val_loss: 0.1394 - val_accuracy: 0.7542\n",
      "Epoch 87/150\n",
      "213226/213226 [==============================] - 16s 75us/step - loss: 0.1220 - accuracy: 0.7601 - val_loss: 0.1353 - val_accuracy: 0.7593\n",
      "Epoch 88/150\n",
      "213226/213226 [==============================] - 16s 75us/step - loss: 0.1222 - accuracy: 0.7609 - val_loss: 0.1440 - val_accuracy: 0.7585\n",
      "Epoch 89/150\n",
      "213226/213226 [==============================] - 16s 75us/step - loss: 0.1226 - accuracy: 0.7619 - val_loss: 0.1335 - val_accuracy: 0.7654\n",
      "Epoch 90/150\n",
      "213226/213226 [==============================] - 16s 76us/step - loss: 0.1209 - accuracy: 0.7613 - val_loss: 0.1402 - val_accuracy: 0.7628\n",
      "Epoch 91/150\n",
      "213226/213226 [==============================] - 16s 75us/step - loss: 0.1211 - accuracy: 0.7617 - val_loss: 0.1376 - val_accuracy: 0.7601\n",
      "Epoch 92/150\n",
      "213226/213226 [==============================] - 16s 76us/step - loss: 0.1235 - accuracy: 0.7599 - val_loss: 0.1385 - val_accuracy: 0.7580\n",
      "Epoch 93/150\n",
      "213226/213226 [==============================] - 16s 76us/step - loss: 0.1224 - accuracy: 0.7611 - val_loss: 0.1337 - val_accuracy: 0.7579\n",
      "Epoch 94/150\n",
      "213226/213226 [==============================] - 16s 76us/step - loss: 0.1216 - accuracy: 0.7619 - val_loss: 0.1460 - val_accuracy: 0.7574\n",
      "Epoch 95/150\n",
      "213226/213226 [==============================] - 16s 77us/step - loss: 0.1242 - accuracy: 0.7616 - val_loss: 0.1413 - val_accuracy: 0.7524\n",
      "Epoch 96/150\n",
      "213226/213226 [==============================] - 18s 83us/step - loss: 0.1326 - accuracy: 0.7569 - val_loss: 0.1388 - val_accuracy: 0.7598\n",
      "Epoch 97/150\n",
      "213226/213226 [==============================] - 17s 81us/step - loss: 0.1303 - accuracy: 0.7565 - val_loss: 0.1456 - val_accuracy: 0.7573\n",
      "Epoch 98/150\n",
      "213226/213226 [==============================] - 17s 78us/step - loss: 0.1275 - accuracy: 0.7603 - val_loss: 0.1351 - val_accuracy: 0.7640\n",
      "Epoch 99/150\n",
      "213226/213226 [==============================] - 16s 77us/step - loss: 0.1227 - accuracy: 0.7619 - val_loss: 0.1366 - val_accuracy: 0.7655\n",
      "Epoch 100/150\n",
      "213226/213226 [==============================] - 18s 86us/step - loss: 0.1197 - accuracy: 0.7624 - val_loss: 0.1336 - val_accuracy: 0.7553\n",
      "Epoch 101/150\n",
      "213226/213226 [==============================] - 18s 84us/step - loss: 0.1215 - accuracy: 0.7632 - val_loss: 0.1335 - val_accuracy: 0.7676\n",
      "Epoch 102/150\n",
      "213226/213226 [==============================] - 16s 74us/step - loss: 0.1195 - accuracy: 0.7633 - val_loss: 0.1334 - val_accuracy: 0.7621\n",
      "Epoch 103/150\n",
      "213226/213226 [==============================] - 16s 74us/step - loss: 0.1232 - accuracy: 0.7599 - val_loss: 0.1310 - val_accuracy: 0.7654\n",
      "Epoch 104/150\n",
      "213226/213226 [==============================] - 16s 74us/step - loss: 0.1199 - accuracy: 0.7637 - val_loss: 0.1314 - val_accuracy: 0.7633\n",
      "Epoch 105/150\n",
      "213226/213226 [==============================] - 16s 76us/step - loss: 0.1237 - accuracy: 0.7621 - val_loss: 0.1361 - val_accuracy: 0.7615\n",
      "Epoch 106/150\n",
      "213226/213226 [==============================] - 16s 74us/step - loss: 0.1258 - accuracy: 0.7613 - val_loss: 0.1391 - val_accuracy: 0.7559\n",
      "Epoch 107/150\n",
      "213226/213226 [==============================] - 16s 76us/step - loss: 0.1286 - accuracy: 0.7597 - val_loss: 0.1539 - val_accuracy: 0.7404\n"
     ]
    },
    {
     "name": "stdout",
     "output_type": "stream",
     "text": [
      "Epoch 108/150\n",
      "213226/213226 [==============================] - 15s 71us/step - loss: 0.1245 - accuracy: 0.7571 - val_loss: 0.1735 - val_accuracy: 0.7236\n",
      "Epoch 109/150\n",
      "213226/213226 [==============================] - 15s 70us/step - loss: 0.1246 - accuracy: 0.7576 - val_loss: 0.1373 - val_accuracy: 0.7503\n",
      "Epoch 110/150\n",
      "213226/213226 [==============================] - 15s 71us/step - loss: 0.1239 - accuracy: 0.7582 - val_loss: 0.1404 - val_accuracy: 0.7497\n",
      "Epoch 111/150\n",
      "213226/213226 [==============================] - 15s 71us/step - loss: 0.1212 - accuracy: 0.7603 - val_loss: 0.1310 - val_accuracy: 0.7652\n",
      "Epoch 112/150\n",
      "213226/213226 [==============================] - 16s 76us/step - loss: 0.1227 - accuracy: 0.7607 - val_loss: 0.1410 - val_accuracy: 0.7556\n",
      "Epoch 113/150\n",
      "213226/213226 [==============================] - 16s 73us/step - loss: 0.1203 - accuracy: 0.7618 - val_loss: 0.1370 - val_accuracy: 0.7574\n",
      "Epoch 114/150\n",
      "213226/213226 [==============================] - 16s 75us/step - loss: 0.1219 - accuracy: 0.7623 - val_loss: 0.1378 - val_accuracy: 0.7634\n",
      "Epoch 115/150\n",
      "213226/213226 [==============================] - 15s 72us/step - loss: 0.1197 - accuracy: 0.7628 - val_loss: 0.1308 - val_accuracy: 0.7635\n",
      "Epoch 116/150\n",
      "213226/213226 [==============================] - 15s 72us/step - loss: 0.1203 - accuracy: 0.7628 - val_loss: 0.1305 - val_accuracy: 0.7684\n",
      "Epoch 117/150\n",
      "213226/213226 [==============================] - 16s 73us/step - loss: 0.1241 - accuracy: 0.7587 - val_loss: 0.1341 - val_accuracy: 0.7583\n",
      "Epoch 118/150\n",
      "213226/213226 [==============================] - 15s 72us/step - loss: 0.1205 - accuracy: 0.7620 - val_loss: 0.1343 - val_accuracy: 0.7593\n",
      "Epoch 119/150\n",
      "213226/213226 [==============================] - 15s 72us/step - loss: 0.1215 - accuracy: 0.7629 - val_loss: 0.1341 - val_accuracy: 0.7600\n",
      "Epoch 120/150\n",
      "213226/213226 [==============================] - 15s 72us/step - loss: 0.1245 - accuracy: 0.7572 - val_loss: 0.1353 - val_accuracy: 0.7617\n",
      "Epoch 121/150\n",
      "213226/213226 [==============================] - 15s 72us/step - loss: 0.1254 - accuracy: 0.7571 - val_loss: 0.1512 - val_accuracy: 0.7440\n",
      "Epoch 122/150\n",
      "213226/213226 [==============================] - 15s 72us/step - loss: 0.1222 - accuracy: 0.7590 - val_loss: 0.1378 - val_accuracy: 0.7572\n",
      "Epoch 123/150\n",
      "213226/213226 [==============================] - 16s 74us/step - loss: 0.1216 - accuracy: 0.7598 - val_loss: 0.1413 - val_accuracy: 0.7620\n",
      "Epoch 124/150\n",
      "213226/213226 [==============================] - 16s 77us/step - loss: 0.1207 - accuracy: 0.7625 - val_loss: 0.1319 - val_accuracy: 0.7632\n",
      "Epoch 125/150\n",
      "213226/213226 [==============================] - 16s 75us/step - loss: 0.1233 - accuracy: 0.7593 - val_loss: 0.1376 - val_accuracy: 0.7619\n",
      "Epoch 126/150\n",
      "213226/213226 [==============================] - 16s 73us/step - loss: 0.1231 - accuracy: 0.7595 - val_loss: 0.1329 - val_accuracy: 0.7601\n",
      "Epoch 127/150\n",
      "213226/213226 [==============================] - 16s 73us/step - loss: 0.1175 - accuracy: 0.7649 - val_loss: 0.1572 - val_accuracy: 0.7489\n",
      "Epoch 128/150\n",
      "213226/213226 [==============================] - 15s 72us/step - loss: 0.1200 - accuracy: 0.7643 - val_loss: 0.1516 - val_accuracy: 0.7285\n",
      "Epoch 129/150\n",
      "213226/213226 [==============================] - 16s 73us/step - loss: 0.1230 - accuracy: 0.7596 - val_loss: 0.1320 - val_accuracy: 0.7602\n",
      "Epoch 130/150\n",
      "213226/213226 [==============================] - 16s 73us/step - loss: 0.1211 - accuracy: 0.7606 - val_loss: 0.1345 - val_accuracy: 0.7665\n",
      "Epoch 131/150\n",
      "213226/213226 [==============================] - 16s 74us/step - loss: 0.1214 - accuracy: 0.7625 - val_loss: 0.1332 - val_accuracy: 0.7632\n",
      "Epoch 132/150\n",
      "213226/213226 [==============================] - 16s 73us/step - loss: 0.1176 - accuracy: 0.7640 - val_loss: 0.1405 - val_accuracy: 0.7584\n",
      "Epoch 133/150\n",
      "213226/213226 [==============================] - 16s 73us/step - loss: 0.1198 - accuracy: 0.7627 - val_loss: 0.1375 - val_accuracy: 0.7528\n",
      "Epoch 134/150\n",
      "213226/213226 [==============================] - 16s 73us/step - loss: 0.1222 - accuracy: 0.7628 - val_loss: 0.1316 - val_accuracy: 0.7639\n",
      "Epoch 135/150\n",
      "213226/213226 [==============================] - 16s 73us/step - loss: 0.1205 - accuracy: 0.7637 - val_loss: 0.1335 - val_accuracy: 0.7699\n",
      "Epoch 136/150\n",
      "213226/213226 [==============================] - 17s 79us/step - loss: 0.1222 - accuracy: 0.7620 - val_loss: 0.1362 - val_accuracy: 0.7585\n",
      "Epoch 137/150\n",
      "213226/213226 [==============================] - 15s 71us/step - loss: 0.1182 - accuracy: 0.7638 - val_loss: 0.1844 - val_accuracy: 0.7100\n",
      "Epoch 138/150\n",
      "213226/213226 [==============================] - 15s 72us/step - loss: 0.1238 - accuracy: 0.7602 - val_loss: 0.1341 - val_accuracy: 0.7618\n",
      "Epoch 139/150\n",
      "213226/213226 [==============================] - 15s 72us/step - loss: 0.1210 - accuracy: 0.7639 - val_loss: 0.1388 - val_accuracy: 0.7652\n",
      "Epoch 140/150\n",
      "213226/213226 [==============================] - 15s 72us/step - loss: 0.1224 - accuracy: 0.7647 - val_loss: 0.1762 - val_accuracy: 0.7330\n",
      "Epoch 141/150\n",
      "213226/213226 [==============================] - 15s 72us/step - loss: 0.1176 - accuracy: 0.7673 - val_loss: 0.1325 - val_accuracy: 0.7670\n",
      "Epoch 142/150\n",
      "213226/213226 [==============================] - 15s 72us/step - loss: 0.1177 - accuracy: 0.7655 - val_loss: 0.1343 - val_accuracy: 0.7665\n",
      "Epoch 143/150\n",
      "213226/213226 [==============================] - 16s 74us/step - loss: 0.1173 - accuracy: 0.7675 - val_loss: 0.1384 - val_accuracy: 0.7619\n",
      "Epoch 144/150\n",
      "213226/213226 [==============================] - 16s 74us/step - loss: 0.1173 - accuracy: 0.7659 - val_loss: 0.1329 - val_accuracy: 0.7670\n",
      "Epoch 145/150\n",
      "213226/213226 [==============================] - 16s 73us/step - loss: 0.1164 - accuracy: 0.7684 - val_loss: 0.1315 - val_accuracy: 0.7693\n",
      "Epoch 146/150\n",
      "213226/213226 [==============================] - 16s 74us/step - loss: 0.1165 - accuracy: 0.7675 - val_loss: 0.1347 - val_accuracy: 0.7567\n",
      "Epoch 147/150\n",
      "213226/213226 [==============================] - 16s 73us/step - loss: 0.1191 - accuracy: 0.7634 - val_loss: 0.1369 - val_accuracy: 0.7665\n",
      "Epoch 148/150\n",
      "213226/213226 [==============================] - 16s 74us/step - loss: 0.1184 - accuracy: 0.7651 - val_loss: 0.1413 - val_accuracy: 0.7666\n",
      "Epoch 149/150\n",
      "213226/213226 [==============================] - 16s 73us/step - loss: 0.1187 - accuracy: 0.7656 - val_loss: 0.1465 - val_accuracy: 0.7564\n",
      "Epoch 150/150\n",
      "213226/213226 [==============================] - 16s 73us/step - loss: 0.1212 - accuracy: 0.7674 - val_loss: 0.1353 - val_accuracy: 0.7658\n"
     ]
    },
    {
     "data": {
      "text/plain": [
       "<keras.callbacks.callbacks.History at 0x154e8abd0>"
      ]
     },
     "execution_count": 35,
     "metadata": {},
     "output_type": "execute_result"
    }
   ],
   "source": [
    "model.fit(X_train, X_train,\n",
    "                    epochs=150,\n",
    "                    batch_size=64,\n",
    "                    shuffle=True,\n",
    "                    validation_data=(X_test, X_test),\n",
    "                    verbose=1)"
   ]
  },
  {
   "cell_type": "code",
   "execution_count": 36,
   "metadata": {},
   "outputs": [
    {
     "data": {
      "image/png": "[encoded data removed]",
      "text/plain": [
       "<Figure size 720x504 with 1 Axes>"
      ]
     },
     "metadata": {
      "needs_background": "light"
     },
     "output_type": "display_data"
    }
   ],
   "source": [
    "# plotting model loss\n",
    "plt.figure(figsize=(10,7))\n",
    "plt.plot(model.history.history['loss'],label='train')\n",
    "plt.plot(model.history.history['val_loss'], label='test')\n",
    "plt.title('Train vs Validation Loss')\n",
    "plt.xlabel('No. of Epochs')\n",
    "plt.ylabel('Loss')\n",
    "plt.legend()\n",
    "plt.show()"
   ]
  },
  {
   "cell_type": "markdown",
   "metadata": {},
   "source": [
    "# 6. Evaluating Model Performance on Test Data"
   ]
  },
  {
   "cell_type": "code",
   "execution_count": 37,
   "metadata": {},
   "outputs": [],
   "source": [
    "predictions = model.predict(X_test)"
   ]
  },
  {
   "cell_type": "code",
   "execution_count": 38,
   "metadata": {
    "scrolled": false
   },
   "outputs": [
    {
     "data": {
      "text/html": [
       "<div>\n",
       "<style scoped>\n",
       "    .dataframe tbody tr th:only-of-type {\n",
       "        vertical-align: middle;\n",
       "    }\n",
       "\n",
       "    .dataframe tbody tr th {\n",
       "        vertical-align: top;\n",
       "    }\n",
       "\n",
       "    .dataframe thead th {\n",
       "        text-align: right;\n",
       "    }\n",
       "</style>\n",
       "<table border=\"1\" class=\"dataframe\">\n",
       "  <thead>\n",
       "    <tr style=\"text-align: right;\">\n",
       "      <th></th>\n",
       "      <th>reconstruction_error</th>\n",
       "      <th>actual_label</th>\n",
       "    </tr>\n",
       "  </thead>\n",
       "  <tbody>\n",
       "    <tr>\n",
       "      <th>43428</th>\n",
       "      <td>9.006584</td>\n",
       "      <td>1</td>\n",
       "    </tr>\n",
       "    <tr>\n",
       "      <th>49906</th>\n",
       "      <td>0.216859</td>\n",
       "      <td>0</td>\n",
       "    </tr>\n",
       "    <tr>\n",
       "      <th>29474</th>\n",
       "      <td>0.012613</td>\n",
       "      <td>0</td>\n",
       "    </tr>\n",
       "    <tr>\n",
       "      <th>276481</th>\n",
       "      <td>0.086773</td>\n",
       "      <td>0</td>\n",
       "    </tr>\n",
       "    <tr>\n",
       "      <th>278846</th>\n",
       "      <td>0.003272</td>\n",
       "      <td>0</td>\n",
       "    </tr>\n",
       "  </tbody>\n",
       "</table>\n",
       "</div>"
      ],
      "text/plain": [
       "        reconstruction_error  actual_label\n",
       "43428               9.006584             1\n",
       "49906               0.216859             0\n",
       "29474               0.012613             0\n",
       "276481              0.086773             0\n",
       "278846              0.003272             0"
      ]
     },
     "execution_count": 38,
     "metadata": {},
     "output_type": "execute_result"
    }
   ],
   "source": [
    "import numpy as np\n",
    "mse = np.mean(np.power(X_test - predictions, 2), axis=1)\n",
    "\n",
    "results = pd.DataFrame({'reconstruction_error': mse,\n",
    "                        'actual_label': y_test})\n",
    "\n",
    "\n",
    "results.head()"
   ]
  },
  {
   "cell_type": "code",
   "execution_count": 39,
   "metadata": {},
   "outputs": [
    {
     "data": {
      "image/png": "[encoded data removed]",
      "text/plain": [
       "<Figure size 900x600 with 1 Axes>"
      ]
     },
     "metadata": {
      "needs_background": "light"
     },
     "output_type": "display_data"
    }
   ],
   "source": [
    "# The reconstruction_error ranges between 0 and 1. The closer the error is to 1 the more confident our model is\n",
    "# that the transaction was a fraudelent one and vice versa. The threshold we set is up to us. There is a tradeoff however.\n",
    "# The larger the threshold i.e. closer to 1, the fewer false positives but the greater the false negatives and vice versa.\n",
    "# One way to figure out where to place is our threshold is by using an ROC curve.\n",
    "\n",
    "\n",
    "from sklearn.metrics import roc_curve, auc\n",
    "# get false and true positive rates\n",
    "fpr, tpr, thresholds = roc_curve(y_test, results['reconstruction_error'])\n",
    "# get area under the curve\n",
    "roc_auc = auc(fpr, tpr)\n",
    "# PLOT ROC curve\n",
    "plt.figure(dpi=150)\n",
    "plt.plot(fpr, tpr, lw=1, color='green', label=f'AUC = {roc_auc:.3f}')\n",
    "plt.title('ROC Curve for Autoencoder')\n",
    "plt.xlabel('False Positive Rate')\n",
    "plt.ylabel('True Positive Rate (Recall)')\n",
    "plt.xlim([-0.05, 1.05])\n",
    "plt.ylim([-0.05, 1.05])\n",
    "plt.legend()\n",
    "plt.show()"
   ]
  },
  {
   "cell_type": "code",
   "execution_count": 40,
   "metadata": {},
   "outputs": [
    {
     "data": {
      "text/plain": [
       "<matplotlib.axes._subplots.AxesSubplot at 0x11315b1d0>"
      ]
     },
     "execution_count": 40,
     "metadata": {},
     "output_type": "execute_result"
    },
    {
     "data": {
      "image/png": "[encoded data removed]",
      "text/plain": [
       "<Figure size 720x360 with 2 Axes>"
      ]
     },
     "metadata": {
      "needs_background": "light"
     },
     "output_type": "display_data"
    }
   ],
   "source": [
    "# since we want to be on the top left of the ROC Curve, a threshold of around 0.9 looks good.\n",
    "results['reconstruction_error'] = results['reconstruction_error'].apply(lambda x : 1 if x>0.09 else 0)\n",
    "\n",
    "# lets plot a confusin matrix\n",
    "from sklearn.metrics import confusion_matrix,roc_curve\n",
    "cf_matrix = confusion_matrix(results['actual_label'], results['reconstruction_error'])\n",
    "\n",
    "plt.figure(figsize=(10,5))\n",
    "sns.heatmap(cf_matrix, annot=True,cmap='Blues', fmt='g')\n"
   ]
  },
  {
   "cell_type": "markdown",
   "metadata": {},
   "source": [
    "# 7. Calculating accuracy, precision and recall\n"
   ]
  },
  {
   "cell_type": "code",
   "execution_count": 41,
   "metadata": {},
   "outputs": [
    {
     "name": "stdout",
     "output_type": "stream",
     "text": [
      "Recall: 100.0\n",
      "Precision: 67.0\n",
      "Accuracy: 67.0\n"
     ]
    }
   ],
   "source": [
    "# Calculating accuracy, precision and recall\n",
    "# Precision is the ratio tp / (tp + fp)\n",
    "# Recall is the ratio tp / (tp + fn)\n",
    "# Accuracy is the ratio of tp + tn / (tp + tn + fp + fn)\n",
    "\n",
    "tp, fp, fn, tn = cf_matrix.ravel()\n",
    "\n",
    "precision = tp / (tp + fp) \n",
    "recall = tp / (tp + fn) \n",
    "accuracy = (tp + tn) / (tp + tn + fp + fn)\n",
    "\n",
    "print(f'Recall: {round(recall*100)}')\n",
    "print(f'Precision: {round(precision*100)}')\n",
    "print(f'Accuracy: {round(accuracy*100)}')"
   ]
  },
  {
   "cell_type": "markdown",
   "metadata": {},
   "source": [
    "# 8. Conclusion\n",
    "\n",
    "Due to the very low threshold of 0.9, our model does an excellent job at predicting fraudulent cases with a recall of 100%. However, this comes with an opportunity cost of a reduced precision of 67%. Altering the threshold, will lead to differnt outcomes."
   ]
  }
 ],
 "metadata": {
  "kernelspec": {
   "display_name": "Python 3",
   "language": "python",
   "name": "python3"
  },
  "language_info": {
   "codemirror_mode": {
    "name": "ipython",
    "version": 3
   },
   "file_extension": ".py",
   "mimetype": "text/x-python",
   "name": "python",
   "nbconvert_exporter": "python",
   "pygments_lexer": "ipython3",
   "version": "3.7.4"
  }
 },
 "nbformat": 4,
 "nbformat_minor": 2
}
